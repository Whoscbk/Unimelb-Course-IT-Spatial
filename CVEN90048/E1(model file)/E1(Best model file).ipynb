{
 "cells": [
  {
   "cell_type": "code",
   "execution_count": 1,
   "metadata": {},
   "outputs": [],
   "source": [
    "import pandas as pd\n",
    "import biogeme.database as db\n",
    "import biogeme.biogeme as bio"
   ]
  },
  {
   "cell_type": "code",
   "execution_count": 2,
   "metadata": {},
   "outputs": [
    {
     "data": {
      "text/plain": [
       "6106"
      ]
     },
     "execution_count": 2,
     "metadata": {},
     "output_type": "execute_result"
    }
   ],
   "source": [
    "pandas = pd.read_csv('dataset.csv', sep=',')\n",
    "\n",
    "database = db.Database (\"best\", pandas)\n",
    "from headers import *\n",
    "database.getSampleSize()"
   ]
  },
  {
   "cell_type": "code",
   "execution_count": 3,
   "metadata": {},
   "outputs": [
    {
     "name": "stdout",
     "output_type": "stream",
     "text": [
      "                          Value   Std err     t-test       p-value  \\\n",
      "asc_bike              -2.122794  0.148780 -14.268025  0.000000e+00   \n",
      "asc_car                1.943822  0.116063  16.747928  0.000000e+00   \n",
      "asc_transit           -1.961943  0.219957  -8.919666  0.000000e+00   \n",
      "asc_walk               2.140914  0.105888  20.218577  0.000000e+00   \n",
      "beta_PorDsomeone       0.884203  0.145660   6.070309  1.276646e-09   \n",
      "beta_accompanysomeone -0.939826  0.237826  -3.951747  7.758265e-05   \n",
      "beta_buysomething      0.395759  0.115484   3.426958  6.103843e-04   \n",
      "beta_cumdist          -0.447504  0.032983 -13.567593  0.000000e+00   \n",
      "beta_education         0.999533  0.195559   5.111166  3.201773e-07   \n",
      "beta_female           -0.748084  0.185609  -4.030428  5.567530e-05   \n",
      "beta_fulllicence      -0.998262  0.228213  -4.374245  1.218532e-05   \n",
      "beta_nocarlicence      0.726280  0.231207   3.141246  1.682308e-03   \n",
      "beta_numstops          0.247356  0.021198  11.668587  0.000000e+00   \n",
      "beta_personalbusiness  0.875110  0.134460   6.508342  7.598477e-11   \n",
      "beta_recreational     -1.707674  0.124184 -13.751156  0.000000e+00   \n",
      "beta_social           -1.229708  0.413544  -2.973585  2.943433e-03   \n",
      "beta_totalbikes        0.355598  0.042420   8.382807  0.000000e+00   \n",
      "beta_totalvehs         0.378937  0.047136   8.039267  8.881784e-16   \n",
      "beta_transitheadway   -0.016836  0.004385  -3.839565  1.232527e-04   \n",
      "beta_traveltime       -0.016795  0.002025  -8.295804  0.000000e+00   \n",
      "beta_triptime         -0.038878  0.002691 -14.445585  0.000000e+00   \n",
      "beta_waitime          -0.329544  0.033251  -9.910812  0.000000e+00   \n",
      "beta_workrelated       0.911256  0.180162   5.057979  4.237223e-07   \n",
      "\n",
      "                       Rob. Std err  Rob. t-test  Rob. p-value  \n",
      "asc_bike                   0.171327   -12.390303  0.000000e+00  \n",
      "asc_car                    0.132516    14.668545  0.000000e+00  \n",
      "asc_transit                0.229621    -8.544280  0.000000e+00  \n",
      "asc_walk                   0.157018    13.634839  0.000000e+00  \n",
      "beta_PorDsomeone           0.138076     6.403743  1.516127e-10  \n",
      "beta_accompanysomeone      0.231685    -4.056486  4.981645e-05  \n",
      "beta_buysomething          0.110521     3.580855  3.424722e-04  \n",
      "beta_cumdist               0.082738    -5.408711  6.347994e-08  \n",
      "beta_education             0.194139     5.148540  2.625217e-07  \n",
      "beta_female                0.195193    -3.832541  1.268264e-04  \n",
      "beta_fulllicence           0.214169    -4.661103  3.145192e-06  \n",
      "beta_nocarlicence          0.232356     3.125715  1.773731e-03  \n",
      "beta_numstops              0.019424    12.734539  0.000000e+00  \n",
      "beta_personalbusiness      0.125193     6.990086  2.747136e-12  \n",
      "beta_recreational          0.111978   -15.250118  0.000000e+00  \n",
      "beta_social                0.462882    -2.656635  7.892483e-03  \n",
      "beta_totalbikes            0.040537     8.772186  0.000000e+00  \n",
      "beta_totalvehs             0.045380     8.350268  0.000000e+00  \n",
      "beta_transitheadway        0.004014    -4.194687  2.732486e-05  \n",
      "beta_traveltime            0.004400    -3.817347  1.348942e-04  \n",
      "beta_triptime              0.006245    -6.225626  4.796363e-10  \n",
      "beta_waitime               0.071607    -4.602099  4.182533e-06  \n",
      "beta_workrelated           0.184517     4.938609  7.868176e-07  \n"
     ]
    }
   ],
   "source": [
    "asc_walk = Beta('asc_walk',0,None,None,0)\n",
    "asc_bike = Beta('asc_bike',0,None,None,0)\n",
    "asc_transit = Beta('asc_transit',0,None,None,0)\n",
    "asc_car = Beta('asc_car',0,None,None,0)\n",
    "beta_traveltime = Beta('beta_traveltime',0,None,None,0)\n",
    "beta_transitheadway = Beta('beta_transitheadway',0,None,None,0)\n",
    "\n",
    "beta_numstops = Beta('beta_numstops',0,None,None,0)\n",
    "beta_totalbikes = Beta('beta_totalbikes',0,None,None,0)\n",
    "beta_waitime = Beta('beta_waitime',0,None,None,0)\n",
    "beta_cumdist = Beta('beta_cumdist',0,None,None,0)\n",
    "beta_triptime = Beta('beta_triptime',0,None,None,0)\n",
    "beta_totalvehs = Beta('beta_totalvehs',0,None,None,0)\n",
    "\n",
    "beta_female = Beta('beta_female',0,None,None,0)\n",
    "\n",
    "beta_accompanysomeone = Beta('beta_accompanysomeone',0,None,None,0)\n",
    "beta_buysomething = Beta('beta_buysomething',0,None,None,0)\n",
    "beta_education = Beta('beta_education',0,None,None,0)\n",
    "beta_personalbusiness= Beta('beta_personalbusiness',0,None,None,0)\n",
    "beta_PorDsomeone = Beta('beta_PorDsomeone',0,None,None,0)\n",
    "beta_recreational = Beta('beta_recreational',0,None,None,0)\n",
    "beta_social = Beta('beta_social',0,None,None,0)\n",
    "beta_workrelated = Beta('beta_workrelated',0,None,None,0)\n",
    "\n",
    "beta_nocarlicence = Beta('beta_nocarlicence',0,None,None,0)\n",
    "beta_fulllicence = Beta('beta_fulllicence',0,None,None,0)\n",
    "\n",
    "\n",
    "V1 = asc_walk + beta_traveltime * walk_travel_time + beta_cumdist * cumdist + beta_accompanysomeone * trippurp1 + beta_personalbusiness * trippurp4 \n",
    "V2 = asc_bike + beta_traveltime * bike_travel_time + beta_totalbikes * totalbikes + beta_social * trippurp7 + beta_female * female\n",
    "V3 = asc_transit + beta_traveltime * transit_travel_time + beta_transitheadway * transit_headway + beta_numstops * numstops + beta_workrelated * trippurp8 + beta_education * trippurp3 + beta_nocarlicence * nocarlicence + beta_fulllicence * fulllicence\n",
    "V4 = asc_car + beta_traveltime * car_travel_time + beta_triptime * triptime + beta_waitime * waitime + beta_totalvehs * totalvehs + beta_buysomething * trippurp2 + beta_PorDsomeone * trippurp5 + beta_recreational * trippurp6 \n",
    "\n",
    "\n",
    "\n",
    "V = {1: V1, 2: V2, 3: V3, 4:V4}\n",
    "\n",
    "\n",
    "av = {1: av1, 2: av2, 3: av3, 4:av4}\n",
    "\n",
    "\n",
    "logprob = bioLogLogit(V,av,choice)\n",
    "biogeme  = bio.BIOGEME(database,logprob)\n",
    "biogeme.modelName = \"BestModel\"\n",
    "results = biogeme.estimate()\n",
    "\n",
    "  \n",
    "pandasResults = results.getEstimatedParameters()\n",
    "print(pandasResults)"
   ]
  },
  {
   "cell_type": "code",
   "execution_count": null,
   "metadata": {},
   "outputs": [],
   "source": []
  }
 ],
 "metadata": {
  "kernelspec": {
   "display_name": "Python 3",
   "language": "python",
   "name": "python3"
  },
  "language_info": {
   "codemirror_mode": {
    "name": "ipython",
    "version": 3
   },
   "file_extension": ".py",
   "mimetype": "text/x-python",
   "name": "python",
   "nbconvert_exporter": "python",
   "pygments_lexer": "ipython3",
   "version": "3.7.3"
  }
 },
 "nbformat": 4,
 "nbformat_minor": 2
}
