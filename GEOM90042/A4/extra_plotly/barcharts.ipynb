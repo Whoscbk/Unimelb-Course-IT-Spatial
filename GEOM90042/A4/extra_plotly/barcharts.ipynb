{
 "cells": [
  {
   "cell_type": "code",
   "execution_count": null,
   "metadata": {},
   "outputs": [],
   "source": [
    "import pandas as pd\n",
    "import geopandas as gpd\n",
    "import os\n",
    "import matplotlib\n",
    "import matplotlib.pyplot as plt\n",
    "import numpy as np\n",
    "import plotly as py\n",
    "import plotly.graph_objs as go"
   ]
  },
  {
   "cell_type": "code",
   "execution_count": null,
   "metadata": {},
   "outputs": [],
   "source": [
    "path = \"data\\VicRoadsAccidents\\\\2013\\\\2013.shp\"\n",
    "path2 = \"data\\VicRoadsAccidents\\\\2014\\\\2014.shp\"\n",
    "path3 = \"data\\VicRoadsAccidents\\\\2015\\\\2015.shp\"\n",
    "path4 = \"data\\VicRoadsAccidents\\\\2016\\\\2016.shp\"\n",
    "path5 = \"data\\VicRoadsAccidents\\\\2017\\\\2017.shp\"\n",
    "path6 = \"data\\VicRoadsAccidents\\\\2018\\\\2018.shp\"\n",
    "shp_2013 = gpd.read_file(path)\n",
    "shp_2014 = gpd.read_file(path2)\n",
    "shp_2015 = gpd.read_file(path3)\n",
    "shp_2016 = gpd.read_file(path4)\n",
    "shp_2017 = gpd.read_file(path5)\n",
    "shp_2018 = gpd.read_file(path6)"
   ]
  },
  {
   "cell_type": "code",
   "execution_count": null,
   "metadata": {},
   "outputs": [],
   "source": [
    "temp = pd.DataFrame(shp_2013.groupby('DAY_OF_WEE')['OBJECTID'].count())\n",
    "temp2 = pd.DataFrame(shp_2018.groupby('DAY_OF_WEE')['OBJECTID'].count())\n",
    "temp.columns = ['count']\n",
    "temp2.columns = ['count']"
   ]
  },
  {
   "cell_type": "code",
   "execution_count": null,
   "metadata": {},
   "outputs": [],
   "source": [
    "labels = ['Mon', 'Tue', 'Wed', 'Thur', 'Fri','Sat','Sun']\n",
    "Week = ['Monday','Tuesday','Wednesday','Thursday','Friday','Saturday','Sunday']\n",
    "arr_2013 = [temp.loc['Monday']['count'],temp.loc['Tuesday']['count'],temp.loc['Wednesday']['count'],\n",
    "            temp.loc['Thursday']['count'],temp.loc['Friday']['count'],temp.loc['Saturday']['count'],temp.loc['Sunday']['count']]\n",
    "arr_2018 = [temp2.loc['Monday']['count'],temp2.loc['Tuesday']['count'],temp2.loc['Wednesday']['count'],\n",
    "            temp2.loc['Thursday']['count'],temp2.loc['Friday']['count'],temp2.loc['Saturday']['count'],temp2.loc['Sunday']['count']]"
   ]
  },
  {
   "cell_type": "code",
   "execution_count": null,
   "metadata": {},
   "outputs": [],
   "source": [
    "pyplt = py.offline.plot\n",
    "\n",
    "trace_1 = go.Bar(\n",
    "            x = labels,\n",
    "            y = arr_2013,\n",
    "            name = \"2013\",\n",
    "            text = arr_2013,\n",
    "            textposition = 'outside',\n",
    "            marker = dict(color = 'rgb(100,169,252)',\n",
    "            line = dict(color = 'rgb(8,48,107)',width = 1.5),\n",
    "    ),\n",
    "            opacity = 0.8,\n",
    ")\n",
    "trace_2 = go.Bar(\n",
    "            x = labels,\n",
    "            y = arr_2018,\n",
    "            name = \"2018\",\n",
    "            text = arr_2018,\n",
    "            textposition = 'outside',\n",
    "            marker = dict(color = 'rgb(255,83,22)',\n",
    "            line = dict(color = 'rgb(8,48,107)',width = 1.5),\n",
    "    ),\n",
    "            opacity = 0.6,\n",
    ")\n",
    "\n",
    "trace = [trace_1, trace_2]\n",
    "layout = go.Layout(\n",
    "            title = 'Accidents in 2013 and 2018'\n",
    "    )\n",
    "# Figure\n",
    "fig = go.Figure(data = trace, layout = layout)\n",
    "pyplt(fig,filename='bar13_18.html')"
   ]
  }
 ],
 "metadata": {
  "kernelspec": {
   "display_name": "Python 3",
   "language": "python",
   "name": "python3"
  },
  "language_info": {
   "codemirror_mode": {
    "name": "ipython",
    "version": 3
   },
   "file_extension": ".py",
   "mimetype": "text/x-python",
   "name": "python",
   "nbconvert_exporter": "python",
   "pygments_lexer": "ipython3",
   "version": "3.7.6"
  }
 },
 "nbformat": 4,
 "nbformat_minor": 4
}
