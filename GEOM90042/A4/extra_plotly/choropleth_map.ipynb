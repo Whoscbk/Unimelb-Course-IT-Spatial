{
 "cells": [
  {
   "cell_type": "code",
   "execution_count": null,
   "metadata": {},
   "outputs": [],
   "source": [
    "import pandas as pd\n",
    "import plotly.express as px\n",
    "import plotly.graph_objs as go\n",
    "import geopandas as gpd\n",
    "import os\n",
    "import matplotlib as mpl\n",
    "import matplotlib.pyplot as plt\n",
    "import numpy as np\n",
    "from PIL import Image\n",
    "from mpl_toolkits.basemap import Basemap\n",
    "import matplotlib.patches as mpatches\n",
    "from matplotlib.patches import Polygon\n",
    "from matplotlib.collections import PatchCollection\n",
    "from matplotlib.patches import PathPatch\n",
    "import json\n",
    "import plotly as py"
   ]
  },
  {
   "cell_type": "code",
   "execution_count": null,
   "metadata": {},
   "outputs": [],
   "source": [
    "path2013 = \"data\\VicRoadsAccidents\\\\2013\\\\2013.shp\"\n",
    "path2014 = \"data\\VicRoadsAccidents\\\\2014\\\\2014.shp\"\n",
    "path2015 = \"data\\VicRoadsAccidents\\\\2015\\\\2015.shp\"\n",
    "path2016 = \"data\\VicRoadsAccidents\\\\2016\\\\2016.shp\"\n",
    "path2017 = \"data\\VicRoadsAccidents\\\\2017\\\\2017.shp\"\n",
    "path2018 = \"data\\VicRoadsAccidents\\\\2018\\\\2018.shp\"\n",
    "\n",
    "gpd2013 = gpd.read_file(path2013)\n",
    "gpd2014 = gpd.read_file(path2014)\n",
    "gpd2015 = gpd.read_file(path2015)\n",
    "gpd2016 = gpd.read_file(path2016)\n",
    "gpd2017 = gpd.read_file(path2017)\n",
    "gpd2018 = gpd.read_file(path2018)\n",
    "        \n",
    "pd2013 = pd.DataFrame(gpd2013)\n",
    "pd2014 = pd.DataFrame(gpd2014)\n",
    "pd2015 = pd.DataFrame(gpd2015)\n",
    "pd2016 = pd.DataFrame(gpd2016)\n",
    "pd2017 = pd.DataFrame(gpd2017)\n",
    "pd2018 = pd.DataFrame(gpd2018)"
   ]
  },
  {
   "cell_type": "code",
   "execution_count": null,
   "metadata": {},
   "outputs": [],
   "source": [
    "temp2013 = pd.DataFrame(pd2013.groupby(['LGA_NAME','SEVERITY'])['OBJECTID'].count())\n",
    "temp2013.rename(columns={'OBJECTID':'count'},inplace=True)\n",
    "temp2013.sort_values(by =[\"LGA_NAME\",\"count\"],ascending = False,inplace=True)\n",
    "temp2013['rank'] = temp2013['count'].groupby(\"LGA_NAME\").rank(method='first',ascending=False)\n",
    "temp2013 = temp2013.loc[temp2013['rank'] == 1.0].copy()\n",
    "tab2013 = pd.DataFrame(pd2013.groupby('LGA_NAME')['OBJECTID'].count())\n",
    "temp2013 = temp2013.merge(tab2013, on = 'LGA_NAME')\n",
    "temp2013['fraction'] = 100*temp2013['count']/temp2013['OBJECTID']\n",
    "temp13 = temp2013.reset_index()\n",
    "temp2013 = temp13.set_index('LGA_NAME')"
   ]
  },
  {
   "cell_type": "code",
   "execution_count": null,
   "metadata": {},
   "outputs": [],
   "source": [
    "temp2018 = pd.DataFrame(pd2018.groupby(['LGA_NAME','SEVERITY'])['OBJECTID'].count())\n",
    "temp2018.rename(columns={'OBJECTID':'count'},inplace=True)\n",
    "temp2018.sort_values(by =[\"LGA_NAME\",\"count\"],ascending = False,inplace=True)\n",
    "temp2018['rank'] = temp2018['count'].groupby(\"LGA_NAME\").rank(method='first',ascending=False)\n",
    "temp2018 = temp2018.loc[temp2018['rank'] == 1.0].copy()\n",
    "tab2018 = pd.DataFrame(pd2018.groupby('LGA_NAME')['OBJECTID'].count())\n",
    "temp2018 = temp2018.merge(tab2018, on = 'LGA_NAME')\n",
    "temp2018['fraction'] = (100*temp2018['count'])/temp2018['OBJECTID']\n",
    "temp18 = temp2018.reset_index()\n",
    "temp2018 = temp18.set_index('LGA_NAME')"
   ]
  },
  {
   "cell_type": "code",
   "execution_count": null,
   "metadata": {},
   "outputs": [],
   "source": [
    "pyplt = py.offline.plot\n",
    "with open(\"LGA_alter.geojson\") as f:\n",
    "    provinces_map = json.load(f)\n",
    "fig = px.choropleth_mapbox(\n",
    "    data_frame=temp13,\n",
    "    geojson=provinces_map,\n",
    "    color='fraction',\n",
    "    locations=\"LGA_NAME\",\n",
    "    featureidkey=\"properties.LGA_NAME17\",\n",
    "    mapbox_style=\"open-street-map\",\n",
    "    color_continuous_scale='YlGnBu',\n",
    "    title = 'the fraction in 2013',\n",
    "    center={\"lat\": -37.500573, \"lon\": 144.583924},\n",
    "    zoom=5,\n",
    ")\n",
    "pyplt(fig,filename='year2013.html')"
   ]
  },
  {
   "cell_type": "code",
   "execution_count": null,
   "metadata": {},
   "outputs": [],
   "source": [
    "fig2 = px.choropleth_mapbox(\n",
    "    data_frame=temp18,\n",
    "    geojson=provinces_map,\n",
    "    color='fraction',\n",
    "    locations=\"LGA_NAME\",\n",
    "    featureidkey=\"properties.LGA_NAME17\",\n",
    "    mapbox_style=\"open-street-map\",\n",
    "    color_continuous_scale='YlGnBu',\n",
    "    title = 'the fraction in 2018',\n",
    "    center={\"lat\": -37.500573, \"lon\": 144.583924},\n",
    "    zoom=5,\n",
    ")\n",
    "pyplt(fig2,filename='year2018.html')"
   ]
  }
 ],
 "metadata": {
  "kernelspec": {
   "display_name": "Python 3",
   "language": "python",
   "name": "python3"
  },
  "language_info": {
   "codemirror_mode": {
    "name": "ipython",
    "version": 3
   },
   "file_extension": ".py",
   "mimetype": "text/x-python",
   "name": "python",
   "nbconvert_exporter": "python",
   "pygments_lexer": "ipython3",
   "version": "3.7.6"
  }
 },
 "nbformat": 4,
 "nbformat_minor": 4
}
